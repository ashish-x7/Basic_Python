{
  "nbformat": 4,
  "nbformat_minor": 0,
  "metadata": {
    "colab": {
      "provenance": []
    },
    "kernelspec": {
      "name": "python3",
      "display_name": "Python 3"
    },
    "language_info": {
      "name": "python"
    }
  },
  "cells": [
    {
      "cell_type": "code",
      "execution_count": null,
      "metadata": {
        "id": "zFWGEaWzKIFg"
      },
      "outputs": [],
      "source": []
    },
    {
      "cell_type": "markdown",
      "source": [
        "# PYTHON BASIC\n",
        "\n",
        "\n"
      ],
      "metadata": {
        "id": "Sw937floKJbH"
      }
    },
    {
      "cell_type": "markdown",
      "source": [
        "### **Python Basics Questions**"
      ],
      "metadata": {
        "id": "cutgwVD7EBpN"
      }
    },
    {
      "cell_type": "markdown",
      "source": [
        "1.What is Python, and why is it popular?\n",
        "  - Python is a computer programming language that is easy to read and write. This simplicity is why many developers and programmers enjoy using it.\n",
        "\n",
        "\n",
        "2.What is an interpreter in Python?\n",
        "  - An interpreter in Python refers to a system that scans and executes Python code in a sequential manner, transforming it to executable language in real time as the code is read so it doesn't require pre-compiling to a separate file.\n",
        "\n",
        "\n",
        "3.What are pre-defined keywords in Python?\n",
        "  - if, else, while, for, def, class, True, False, None etc.. are prepre-defined keywords in Python.\n",
        "\n",
        "\n",
        "4.Can keywords be used as variable names?\n",
        "  - No, keywords in Python can’t be used as variable names because they are reserved for specific functions and commands in the language.\n",
        "\n",
        "\n",
        "5.What is mutability in Python?\n",
        "  - Mutability in Python means the ability of an object to be changed after its created.\n",
        "\n",
        "\n",
        "6.Why are lists mutable, but tuples are immutable?\n",
        "  - Lists are mutable because Python lets you change, add, or remove their elements after creating them.\n",
        "Tuples are immutable because once they’re created, their elements can’t be changed—Python locks their content to keep them fixed.\n",
        "\n",
        "\n",
        "7.What is the difference between “==” and “is” operators in Python?\n",
        "  - == checks if values are equal.\n",
        "is checks if both refer to the same object in memory.\n",
        "exmaple\n",
        "\n",
        "\n"
      ],
      "metadata": {
        "id": "_6eymFw6KphF"
      }
    },
    {
      "cell_type": "code",
      "source": [
        "a = [1,2]\n",
        "b = [1,2]\n",
        "a == b  # True (same values)\n",
        "a is b  # False (different objects)"
      ],
      "metadata": {
        "id": "Vs5B_93yEZdf"
      },
      "execution_count": null,
      "outputs": []
    },
    {
      "cell_type": "markdown",
      "source": [
        "8.What are logical operators in Python?\n",
        "  - Logical operators in Python combine conditional statements and return Boolean values (True or False). The main logical operators are:\n",
        "\n",
        "  and, True if both conditions are True.\n",
        "  or, True if at least one condition is True.\n",
        "  not, Reverses the result; True becomes False and vice versa.\n",
        "\n",
        "\n",
        "9.What is type casting in Python?\n",
        " - Type casting, is referred to as type conversion, is the process of changing one data type to another in Python.\n",
        "\n",
        "\n",
        "10.What is the difference between implicit and explicit type casting?\n",
        "  - Implicit casting occurs automatically in Python, but explicit casting must be done manually by the programmer.\n",
        "\n",
        " Implicit casting does not need special syntax, while explicit casting uses functions like int(), str(), or float().\n",
        "\n",
        "\n",
        "11.What is the purpose of conditional statements in Python?\n",
        " - Purpose Conditionals statement nested to handle multiple conditions and control different branches of execution based on the outcome of logical expressions.\n",
        "\n",
        "\n",
        "12.How does the elif statement work?\n",
        " - The elif keyword means \"else if\" and is used to check multiple conditions after an initial if.\n",
        "\n",
        " Python first checks the if condition. If it’s True, that block runs, and everything else is skipped.\n",
        "\n",
        " If the if condition is False, then Python checks each elif condition in order, One by one. The first elif condition that evaluates to True will run its block, and the rest of the elif or else blocks are ignored.\n",
        "\n",
        " If none of the if or elif conditions are True, and there’s an else block, then the code inside the else runs.\n",
        "\n",
        "\n",
        "13.What is the difference between for and while loops?\n",
        " - For loops go through a sequence or run a set number of times. While loops continue as long as a condition stays True.\n",
        "\n",
        " Use for loops when you know how many times you need to iterate. Use while loops when the loop relies on a condition that can change.\n",
        "\n",
        "\n",
        "14.Describe a scenario where a while loop is more suitable than a for loop.\n",
        " - A while loop works better when you are unsure how many times you need to repeat something. The number of repetitions depends on a condition that changes during the process.\n",
        "\n",
        " Example scenario:  \n",
        " Imagine you’re asking a user to guess a secret number. You don’t know how many guesses it will take, so you continue asking until they get it right."
      ],
      "metadata": {
        "id": "V0y4yBI9EclN"
      }
    },
    {
      "cell_type": "markdown",
      "source": [],
      "metadata": {
        "id": "bajU8pFfMIBk"
      }
    },
    {
      "cell_type": "code",
      "source": [
        "password = \"1234\"\n",
        "user_input = \"\"\n",
        "\n",
        "while user_input != password:\n",
        "    user_input = input(\"Enter password: \")\n",
        "\n",
        "print(\"Access granted!\")\n"
      ],
      "metadata": {
        "colab": {
          "base_uri": "https://localhost:8080/"
        },
        "id": "Ew3WqpPtCX1r",
        "outputId": "ac9202a0-b0c6-441a-d5fb-65c5ea9f22c6"
      },
      "execution_count": 1,
      "outputs": [
        {
          "output_type": "stream",
          "name": "stdout",
          "text": [
            "Enter password: 1234\n",
            "Access granted!\n"
          ]
        }
      ]
    },
    {
      "cell_type": "markdown",
      "source": [
        "# **Practical Questions**"
      ],
      "metadata": {
        "id": "knw2_5_ZC3Q0"
      }
    },
    {
      "cell_type": "code",
      "source": [
        "#1.48 Write a Python program to print \"Hello, World!\n",
        "\n",
        "print(\"Hello,World\")"
      ],
      "metadata": {
        "id": "C8WYk_IyDkam"
      },
      "execution_count": null,
      "outputs": []
    },
    {
      "cell_type": "code",
      "source": [
        "#2.Write a Python program that displays your name and age.\n",
        "\n",
        "name = \"Ashish\"\n",
        "age = 25\n",
        "\n",
        "print(\"Name:\", name)\n",
        "print(\"Age:\", age)\n"
      ],
      "metadata": {
        "collapsed": true,
        "id": "RUec4sHFDrqU"
      },
      "execution_count": null,
      "outputs": []
    },
    {
      "cell_type": "code",
      "source": [
        "#3.Write code to print all the pre-defined keywords in Python using the keyword library.\n",
        "\n",
        "import keyword\n",
        "\n",
        "print(keyword.kwlist)\n"
      ],
      "metadata": {
        "colab": {
          "base_uri": "https://localhost:8080/"
        },
        "id": "JrEdpQDDE9xk",
        "outputId": "96d94b1e-4ccb-4800-db0c-1ecb9dffdacb"
      },
      "execution_count": 5,
      "outputs": [
        {
          "output_type": "stream",
          "name": "stdout",
          "text": [
            "['False', 'None', 'True', 'and', 'as', 'assert', 'async', 'await', 'break', 'class', 'continue', 'def', 'del', 'elif', 'else', 'except', 'finally', 'for', 'from', 'global', 'if', 'import', 'in', 'is', 'lambda', 'nonlocal', 'not', 'or', 'pass', 'raise', 'return', 'try', 'while', 'with', 'yield']\n"
          ]
        }
      ]
    },
    {
      "cell_type": "code",
      "source": [
        "#4.Write a program that checks if a given word is a Python keyword.\n",
        "\n",
        "import keyword\n",
        "\n",
        "word = input(\"Please type a word: \")\n",
        "\n",
        "if keyword.iskeyword(word):\n",
        "    print(f\"Yep! '{word}' is a reserved Python keyword.\")\n",
        "else:\n",
        "    print(f\"Nope, '{word}' is not a Python keyword. You can use it as a variable name.\")\n"
      ],
      "metadata": {
        "id": "mXbPt1JRFKUG"
      },
      "execution_count": null,
      "outputs": []
    },
    {
      "cell_type": "code",
      "source": [
        "#5.Create a list and tuple in Python, and demonstrate how attempting to change an element works differently for each.\n",
        "\n",
        "# Creating a list\n",
        "my_list = [10, 20, 30]\n",
        "print(\"Original list:\", my_list)\n",
        "\n",
        "# Changing an element in the list\n",
        "my_list[1] = 99\n",
        "print(\"List after change:\", my_list)\n",
        "\n",
        "\n",
        "# Creating a tuple\n",
        "my_tuple = (10, 20, 30)\n",
        "print(\"Original tuple:\", my_tuple)\n",
        "\n",
        "# Trying to change an element in the tuple\n",
        "try:\n",
        "    my_tuple[1] = 99\n",
        "except TypeError as e:\n",
        "    print(\"Error when trying to change tuple:\", e)\n"
      ],
      "metadata": {
        "id": "vFzqwfe-FtCs"
      },
      "execution_count": null,
      "outputs": []
    },
    {
      "cell_type": "code",
      "source": [
        "#6.Write a function to demonstrate the behavior of mutable and immutable arguments.\n",
        "\n",
        "def change_list(a_list):\n",
        "    a_list.append(100)\n",
        "    print(\"Inside the function, list is now:\", a_list)\n",
        "\n",
        "def change_number(a_number):\n",
        "    a_number += 100\n",
        "    print(\"Inside the function, number is now:\", a_number)\n",
        "\n",
        "my_list = [1, 2, 3]\n",
        "print(\"Before function call, list:\", my_list)\n",
        "change_list(my_list)\n",
        "print(\"After function call, list:\", my_list)\n",
        "\n",
        "print()\n",
        "\n",
        "my_number = 50\n",
        "print(\"Before function call, number:\", my_number)\n",
        "change_number(my_number)\n",
        "print(\"After function call, number:\", my_number)\n"
      ],
      "metadata": {
        "id": "GRcLALMaGbTL"
      },
      "execution_count": null,
      "outputs": []
    },
    {
      "cell_type": "code",
      "source": [
        "#7.Write a program that performs basic arithmetic operations on two user-input numbers.\n",
        "\n",
        "# Ask the user for two numbers\n",
        "num1 = float(input(\"Enter your first number: \"))\n",
        "num2 = float(input(\"now enter the second number: \"))\n",
        "\n",
        "# Do the math\n",
        "add = num1 + num2\n",
        "sub = num1 - num2\n",
        "mul = num1 * num2\n",
        "div = num1 / num2  # Just dividing directly\n",
        "\n",
        "# Show the results\n",
        "print(f\"\\nHere's what I got:\")\n",
        "print(f\"{num1} + {num2} = {add}\")\n",
        "print(f\"{num1} - {num2} = {sub}\")\n",
        "print(f\"{num1} * {num2} = {mul}\")\n",
        "print(f\"{num1} / {num2} = {div}\")\n"
      ],
      "metadata": {
        "id": "5xlwiVnsG5Ud"
      },
      "execution_count": null,
      "outputs": []
    },
    {
      "cell_type": "code",
      "source": [
        "#8.Write a program to demonstrate the use of logical operators.\n",
        "\n",
        "print(\"talk about weather and umbrellas!\")\n",
        "\n",
        "rain = input(\"Is it raining outside? (yes/no): \").strip().lower() == \"yes\"\n",
        "umbrella = input(\"Do you have an umbrella with you? (yes/no): \").strip().lower() == \"yes\"\n",
        "\n",
        "print(\"Here’s what the logic says:\")\n",
        "\n",
        "print(f\"Is it raining AND you have an umbrella? -> {rain and umbrella}\")\n",
        "print(f\"Is it raining OR you have an umbrella? -> {rain or umbrella}\")\n",
        "print(f\"Is it NOT raining? -> {not rain}\")\n"
      ],
      "metadata": {
        "id": "lX3qL3W_HkUt"
      },
      "execution_count": null,
      "outputs": []
    },
    {
      "cell_type": "code",
      "source": [
        "#9.Write a Python program to convert user input from string to integer, float, and boolean types.\n",
        "\n",
        "text = input(\"Type something: \")\n",
        "\n",
        "# Convert to int\n",
        "try:\n",
        "    number = int(text)\n",
        "except:\n",
        "    number = \"Can't convert to integer\"\n",
        "\n",
        "# Convert to float\n",
        "try:\n",
        "    decimal = float(text)\n",
        "except:\n",
        "    decimal = \"Can't convert to float\"\n",
        "\n",
        "# Convert to bool (true if you type yes, 1, or true)\n",
        "boolean = text.lower() in ['yes', '1', 'true']\n",
        "\n",
        "print(\"Integer:\", number)\n",
        "print(\"Float:\", decimal)\n",
        "print(\"Boolean:\", boolean)\n"
      ],
      "metadata": {
        "id": "z9SPMlsxIVlu"
      },
      "execution_count": null,
      "outputs": []
    },
    {
      "cell_type": "code",
      "source": [
        "#10.Write code to demonstrate type casting with list elements.\n",
        "\n",
        "# Starting with a list of numbers as text\n",
        "my_list = ['10', '20', '30', '40']\n",
        "print(\"Original list (strings):\", my_list)\n",
        "\n",
        "# Let’s turn each one into a number\n",
        "numbers = [int(x) for x in my_list]\n",
        "print(\"Now as integers:\", numbers)\n",
        "\n",
        "# And if you want, turn those into decimals (floats)\n",
        "decimals = [float(x) for x in numbers]\n",
        "print(\"And now as floats:\", decimals)\n"
      ],
      "metadata": {
        "id": "am7wa54EIvza"
      },
      "execution_count": null,
      "outputs": []
    },
    {
      "cell_type": "code",
      "source": [
        "#11. Write a program that checks if a number is positive, negative, or zero.\n",
        "\n",
        "num = float(input(\"Enter any number: \"))\n",
        "\n",
        "if num > 0:\n",
        "    print(\"The number is positive!\")\n",
        "elif num < 0:\n",
        "    print(\"The number is negative!\")\n",
        "else:\n",
        "    print(\"You entered zero.\")\n"
      ],
      "metadata": {
        "id": "ds5WMQxLJDX-"
      },
      "execution_count": null,
      "outputs": []
    },
    {
      "cell_type": "code",
      "source": [
        "#12.Write a for loop to print numbers from 1 to 10.\n",
        "\n",
        "for i in range(1, 11):\n",
        "    print(i)"
      ],
      "metadata": {
        "id": "amRSm_laJTAC"
      },
      "execution_count": null,
      "outputs": []
    },
    {
      "cell_type": "code",
      "source": [
        "#13.Write a Python program to find the sum of all even numbers between 1 and 50.\n",
        "\n",
        "total = 0\n",
        "for num in range(2, 51, 2):  # start at 2, go up to 50, step by 2 (even numbers)\n",
        "    total += num\n",
        "\n",
        "print(\"Sum of even numbers from 1 to 50 is:\", total)"
      ],
      "metadata": {
        "id": "ds55E9yUJds_"
      },
      "execution_count": null,
      "outputs": []
    },
    {
      "cell_type": "code",
      "source": [
        "#14. Write a program to reverse a string using a while loop.\n",
        "\n",
        "text = input(\"Enter a string: \")\n",
        "reversed_text = \"\"\n",
        "index = len(text) - 1\n",
        "\n",
        "while index >= 0:\n",
        "    reversed_text += text[index]\n",
        "    index -= 1\n",
        "\n",
        "print(\"Reversed string:\", reversed_text)"
      ],
      "metadata": {
        "id": "eHaSQfJ1JuOk"
      },
      "execution_count": null,
      "outputs": []
    },
    {
      "cell_type": "code",
      "source": [
        "#15. Write a Python program to calculate the factorial of a number provided by the user using a while loop.\n",
        "\n",
        "n = int(input(\"Give me a number to find its factorial: \"))\n",
        "\n",
        "fact = 1\n",
        "count = 1\n",
        "\n",
        "while count <= n:\n",
        "    fact = fact * count\n",
        "    count += 1\n",
        "\n",
        "print(f\"Cool! The factorial of {n} is {fact}\")"
      ],
      "metadata": {
        "id": "2XoneRRLJ9Mp"
      },
      "execution_count": null,
      "outputs": []
    }
  ]
}